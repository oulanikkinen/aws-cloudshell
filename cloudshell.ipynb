{
 "cells": [
  {
   "cell_type": "markdown",
   "metadata": {},
   "source": [
    "# Exploring AWS CloudShell and the AWS Cloud9 IDE\n",
    "\n",
    "## Overview and objectives\n",
    "\n",
    "In this project, I will take on the role of Sofía, connect to an AWS CloudShell environment and explore its capabilities. I will also launch an instance of AWS Cloud9, connect to it, and explore the layout and functionality of its integrated development environment (IDE). \n",
    "\n",
    "After reading this document, you also should be able to do the following:\n",
    "\n",
    "- Connect to AWS CloudShell and run AWS Command Line Interface (AWS CLI) commands and AWS SDK code from it.\n",
    "\n",
    "- Create an AWS Cloud9 development environment and connect to the browser-based IDE.\n",
    "\n",
    "- Copy files to and from Amazon Simple Storage Service (Amazon S3), CloudShell, and AWS Cloud9.\n",
    "\n",
    "- Install the AWS SDK for Python (Boto3) on an AWS Cloud9 instance.\n",
    "\n",
    "- Use the AWS Cloud9 development environment to create files and run code files.\n",
    "\n",
    "\n",
    "## Scenario\n",
    "\n",
    "Frank and Martha are a married team who own and operate a small café business that sells desserts and coffee.\n",
    "\n",
    "![Frank-and-Martha](images/frank-martha-starting.png)\n",
    "\n",
    " \n",
    "\n",
    "Their daughter, Sofía, works at the café. Sofía is pursuing a degree in cloud computing at a local university in the evenings and on the weekends. She has Python development skills and is learning more about how to develop solutions in the cloud.\n",
    "\n",
    "![Sofía](images/sofia-lowres.png)\n",
    "\n",
    "Sofía is eager to start developing a web presence for the café. She thinks that before she starts coding, it would be a good idea to decide on a development environment for developing and running her code. She decides to explore at least two options that are available on AWS.\n",
    "\n",
    "\n",
    "When I start the project, the only pre-created resource in the AWS account is an empty S3 bucket.\n",
    "\n",
    "![cafe website architecture](images/start-arch.png)\n",
    "\n",
    "However, by the end of this lab, you will have created an AWS Cloud9 instance and performed the actions that are shown below:\n",
    "\n",
    "![cafe website architecture](images/end-arch.png)\n",
    "\n",
    "\n",
    "\n",
    "## Task 1: Exploring AWS CloudShell\n",
    "\n",
    "AWS CloudShell is a browser-based, pre-authenticated shell that you can launch directly from the AWS Management Console. In this first task, you will connect to CloudShell and explore its capabilities, as shown in this diagram.\n",
    "\n",
    "![cafe website architecture](images/cloudshell.png)\n",
    "\n",
    "In the AWS Management Console, at the top of the screen, choose the AWS CloudShell icon.\n",
    "\n",
    "![cloudshell icon](images/cloud-shell-icon.png)\n",
    " \n",
    "\n",
    "A new browser tab opens with the AWS CloudShell interface.\n",
    "\n",
    " (*) If a \"Welcome to AWS CloudShell\" pop-up window opens, choose Close.\n",
    "\n",
    " (*) It might take 1–2 minutes for the terminal to become available.\n",
    "\n",
    "You should be able to access a terminal window with a prompt.\n",
    "\n",
    "![cloudshell icon](images/cloudshell-start.png)\n",
    " \n",
    "\n",
    "Verify that the AWS CLI is installed.\n",
    "\n",
    "At the CloudShell prompt, run the following command: aws --version\n",
    "\n",
    "In the output after aws-cli, the version indicates that CloudShell is using AWS CLI version 2.x.x by default.\n",
    "\n",
    "![cloudshell-aws-version](images/cloudshell-aws-version.png)\n",
    "\n",
    "Test the ability to run an AWS CLI command.\n",
    "\n",
    "Run the following simple AWS CLI command: aws s3 ls\n",
    "\n",
    "A list of the S3 buckets that exist in the account is returned.\n",
    "\n",
    "An empty sample bucket was automatically created when you started the lab. The bucket name should appear in the result set.\n",
    "\n",
    "![cloud-aws-ability](images/cloudshell-aws-ability.png)\n",
    "\n",
    "From the Actions menu, choose Tabs layout > Split into columns.\n",
    "\n",
    "A second terminal window opens. This action demonstrates that you can have multiple terminal panels open at the same time.\n",
    "\n",
    "![cloudshell-split](images/cloudshell-split.png) \n",
    "\n",
    "Test the ability to run SDK for Python code.\n",
    "\n",
    "Open the context (right-click) menu for the following link, and download the file to your computer:\n",
    "\n",
    "[list-buckets.py](list-buckets.py)\n",
    "\n",
    "From the Actions menu, choose Files > Upload file, and then choose Select file.\n",
    "\n",
    "In the File Upload window, scroll to the list-buckets.py file that you downloaded, choose it, and then choose Open.\n",
    "\n",
    "Choose Upload.\n",
    "\n",
    "![cloudshell-upload](images/cloudshell-upload.png)\n",
    "\n",
    "Close the File upload successful notification.\n",
    "\n",
    "In the terminal on the right side, run the following command: cat list-buckets.py\n",
    "\n",
    "![cloudshell-cat](images/cloudshell-cat.png)\n",
    "\n",
    "The output shows the contents of the file that you uploaded:"
   ]
  },
  {
   "cell_type": "code",
   "execution_count": null,
   "metadata": {},
   "outputs": [],
   "source": [
    "import boto3\n",
    "session = boto3.Session()\n",
    "s3_client = session.client('s3')\n",
    "b = s3_client.list_buckets()\n",
    "for item in b['Buckets']:\n",
    "    print(item['Name'])"
   ]
  },
  {
   "cell_type": "markdown",
   "metadata": {},
   "source": [
    "In the terminal on the right, run the SDK for Python code by issuing the following command: python3 list-buckets.py\n",
    "\n",
    "The name of the S3 bucket is returned.\n",
    "\n",
    "Compare this output with the AWS CLI command output in the terminal on the left.\n",
    "\n",
    "You have now used two different programmatic ways to retrieve a list of the S3 buckets that exist in the AWS account.\n",
    "\n",
    "![cloudshell-sdk](images/cloudshell-sdk.png)\n",
    "\n",
    "Copy a file from CloudShell to an S3 bucket.\n",
    "\n",
    "Copy the name of the bucket that includes -sample bucket- in the name.\n",
    "\n",
    "To copy the list-buckets.py file to the bucket, go to the terminal on the left and run the following command (replace <bucket-name> with your actual bucket name):"
   ]
  },
  {
   "cell_type": "code",
   "execution_count": null,
   "metadata": {
    "vscode": {
     "languageId": "powershell"
    }
   },
   "outputs": [],
   "source": [
    "aws s3 cp list-buckets.py s3://<bucket-name>"
   ]
  },
  {
   "cell_type": "markdown",
   "metadata": {},
   "source": [
    " (*) If the upload is successful, an output similar to the following example is returned:"
   ]
  },
  {
   "cell_type": "code",
   "execution_count": null,
   "metadata": {
    "vscode": {
     "languageId": "powershell"
    }
   },
   "outputs": [],
   "source": [
    "upload: ./list-buckets.py to s3://<bucket-name>/list-buckets.py\n",
    "image-20210119182937476"
   ]
  },
  {
   "cell_type": "markdown",
   "metadata": {},
   "source": [
    "![cloudshell-s3-cp](images/cloudshell-s3-cp.png)"
   ]
  },
  {
   "cell_type": "markdown",
   "metadata": {},
   "source": [
    "### Nice to know\n",
    "When you use AWS CloudShell, you have persistent storage of 1 GB for each AWS Region at no additional cost.\n",
    "\n",
    "The persistent storage is located in your home directory ($HOME) and is private to you. If you run the\n",
    " df -H /home command in a terminal, the amount of storage that's available in your CloudShell environment is returned.\n",
    "\n",
    "Data in your home directory persists between sessions. If you must store more than 1 GB, you can access an S3 bucket from CloudShell.\n",
    "\n",
    "  \n",
    "\n",
    " \n",
    "\n",
    "## Update from the café\n",
    "Sofía was impressed with how quickly she could run commands and code in AWS CloudShell. She can already envision how she can use it to run PowerShell and other scripts. However, to build a website, she wants to use a fully-featured integrated development environment (IDE) where she can visually write, edit, run, and debug her code. CloudShell provides the vi and vim terminal-based text editors, but it doesn't provide many of the additional features that Sofía is looking for.\n",
    "\n",
    "Faythe, a friend of Sofía, is an experienced AWS developer and consultant. When Faythe visited the café this morning to buy pastries, Sofía mentioned her search for a development environment and how she explored CloudShell. Faythe was impressed that Sofía knew about CloudShell and agreed that it's a useful tool.\n",
    "\n",
    "Meanwhile, Faythe suggested exploring the features of AWS Cloud9. \"Based on your description of the features that you want to use, I think you will like it! You can get started quickly by going to the AWS Cloud9 service page and launching an instance.\"\n",
    "\n",
    "Sofía is eager to explore AWS Cloud9 which is what I will do next!"
   ]
  }
 ],
 "metadata": {
  "language_info": {
   "name": "python"
  }
 },
 "nbformat": 4,
 "nbformat_minor": 2
}
